{
 "cells": [
  {
   "cell_type": "code",
   "id": "initial_id",
   "metadata": {
    "collapsed": true,
    "ExecuteTime": {
     "end_time": "2025-09-05T12:14:30.548938Z",
     "start_time": "2025-09-05T12:14:28.467841Z"
    }
   },
   "source": [
    "import pandas as pd\n",
    "\n",
    "df = pd.read_parquet('C:/Users/Jamie/.cache/huggingface/hub/datasets--manu--project_gutenberg/snapshots/164853d214065df26a630ee1ab91a0c39e461caf/data/en-00000-of-00052-7cda8f63c262acf8.parquet')\n",
    "\n",
    "df.head()"
   ],
   "outputs": [
    {
     "data": {
      "text/plain": [
       "        id                                               text\n",
       "0  41496-8  The Project Gutenberg eBook, Addison, by Willi...\n",
       "1  41496-8  The Project Gutenberg eBook, Addison, by Willi...\n",
       "2   7529-0  ﻿The Project Gutenberg EBook of The Reverberat...\n",
       "3  25056-8  The Project Gutenberg EBook of The Brothers-In...\n",
       "4  25056-8  The Project Gutenberg EBook of The Brothers-In..."
      ],
      "text/html": [
       "<div>\n",
       "<style scoped>\n",
       "    .dataframe tbody tr th:only-of-type {\n",
       "        vertical-align: middle;\n",
       "    }\n",
       "\n",
       "    .dataframe tbody tr th {\n",
       "        vertical-align: top;\n",
       "    }\n",
       "\n",
       "    .dataframe thead th {\n",
       "        text-align: right;\n",
       "    }\n",
       "</style>\n",
       "<table border=\"1\" class=\"dataframe\">\n",
       "  <thead>\n",
       "    <tr style=\"text-align: right;\">\n",
       "      <th></th>\n",
       "      <th>id</th>\n",
       "      <th>text</th>\n",
       "    </tr>\n",
       "  </thead>\n",
       "  <tbody>\n",
       "    <tr>\n",
       "      <th>0</th>\n",
       "      <td>41496-8</td>\n",
       "      <td>The Project Gutenberg eBook, Addison, by Willi...</td>\n",
       "    </tr>\n",
       "    <tr>\n",
       "      <th>1</th>\n",
       "      <td>41496-8</td>\n",
       "      <td>The Project Gutenberg eBook, Addison, by Willi...</td>\n",
       "    </tr>\n",
       "    <tr>\n",
       "      <th>2</th>\n",
       "      <td>7529-0</td>\n",
       "      <td>﻿The Project Gutenberg EBook of The Reverberat...</td>\n",
       "    </tr>\n",
       "    <tr>\n",
       "      <th>3</th>\n",
       "      <td>25056-8</td>\n",
       "      <td>The Project Gutenberg EBook of The Brothers-In...</td>\n",
       "    </tr>\n",
       "    <tr>\n",
       "      <th>4</th>\n",
       "      <td>25056-8</td>\n",
       "      <td>The Project Gutenberg EBook of The Brothers-In...</td>\n",
       "    </tr>\n",
       "  </tbody>\n",
       "</table>\n",
       "</div>"
      ]
     },
     "execution_count": 2,
     "metadata": {},
     "output_type": "execute_result"
    }
   ],
   "execution_count": 2
  }
 ],
 "metadata": {
  "kernelspec": {
   "display_name": "Python 3",
   "language": "python",
   "name": "python3"
  },
  "language_info": {
   "codemirror_mode": {
    "name": "ipython",
    "version": 2
   },
   "file_extension": ".py",
   "mimetype": "text/x-python",
   "name": "python",
   "nbconvert_exporter": "python",
   "pygments_lexer": "ipython2",
   "version": "2.7.6"
  }
 },
 "nbformat": 4,
 "nbformat_minor": 5
}
