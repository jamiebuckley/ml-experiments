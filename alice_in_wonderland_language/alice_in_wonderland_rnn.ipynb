{
 "cells": [
  {
   "metadata": {
    "ExecuteTime": {
     "end_time": "2025-08-28T07:13:04.432443Z",
     "start_time": "2025-08-28T07:13:04.425828Z"
    }
   },
   "cell_type": "code",
   "source": [
    "import torch\n",
    "import torch.nn as nn\n",
    "import torch.optim as optim\n",
    "\n",
    "print(f\"Torch version {torch.__version__}\")\n",
    "device = torch.device(\"cuda\" if torch.cuda.is_available() else \"cpu\")\n",
    "print(f\"CUDA Available: {torch.cuda.is_available()}\")"
   ],
   "id": "fbc121e30a2defb3",
   "outputs": [
    {
     "name": "stdout",
     "output_type": "stream",
     "text": [
      "Torch version 2.7.1+cu118\n",
      "True\n"
     ]
    }
   ],
   "execution_count": 3
  },
  {
   "metadata": {
    "ExecuteTime": {
     "end_time": "2025-08-28T11:27:01.412863Z",
     "start_time": "2025-08-28T11:26:27.019730Z"
    }
   },
   "cell_type": "code",
   "source": [
    "from config import ROOT_DIR\n",
    "import os\n",
    "import math\n",
    "import importlib\n",
    "from torch.utils.data import DataLoader\n",
    "import datasets.alice_in_wonderland\n",
    "importlib.reload(datasets.alice_in_wonderland)\n",
    "\n",
    "dataset_train = None\n",
    "dataset_test = None\n",
    "\n",
    "dataset_train = datasets.alice_in_wonderland.AliceInWonderlandDataset(train=True)\n",
    "tokenizer = dataset_train.tokenizer\n",
    "dataset_test = datasets.alice_in_wonderland.AliceInWonderlandDataset(train=False, tokenizer=tokenizer)\n",
    "\n",
    "log_vocab = math.log(tokenizer.get_vocab_size())\n",
    "print(f\"Log of vocab {log_vocab}\")\n",
    "\n",
    "class SimpleTextRnn(nn.Module):\n",
    "    def __init__(self, vocab_size, embed_size, hidden_size):\n",
    "        super(SimpleTextRnn, self).__init__()\n",
    "        self.embed = nn.Embedding(vocab_size, embed_size)\n",
    "        self.rnn = nn.LSTM(embed_size, hidden_size, batch_first=True)\n",
    "        self.fc = nn.Linear(hidden_size, vocab_size)\n",
    "\n",
    "    def forward(self, x):\n",
    "        x = self.embed(x)\n",
    "        out, _ = self.rnn(x)\n",
    "        last_step = out[:, -1, :]\n",
    "        logits = self.fc(last_step)\n",
    "        return logits\n",
    "\n",
    "train_dataloader = DataLoader(dataset_train, batch_size=64, shuffle=True)\n",
    "test_dataloader = DataLoader(dataset_test, batch_size=64, shuffle=True)\n",
    "\n",
    "model = SimpleTextRnn(vocab_size=tokenizer.get_vocab_size(), embed_size=50, hidden_size=64).to(device)\n",
    "criterion = nn.CrossEntropyLoss()\n",
    "optimizer = optim.Adam(model.parameters(), lr=0.001)\n",
    "\n",
    "best_val_loss = float('inf')\n",
    "best_epoch = 0\n",
    "train_epoch_count = 20\n",
    "\n",
    "\n",
    "if not os.path.exists(os.path.join(ROOT_DIR, '.models')):\n",
    "    os.mkdir(os.path.join(ROOT_DIR, '.models'))\n",
    "\n",
    "torch.save(model.state_dict(), os.path.join(ROOT_DIR, '.models', 'alice_in_wonderland_untrained.pth'))\n",
    "\n",
    "for epoch in range(train_epoch_count+1):\n",
    "    model.train()\n",
    "    for batch_X, batch_Y in train_dataloader:\n",
    "        batch_X, batch_Y = batch_X.to(device), batch_Y.to(device)\n",
    "        optimizer.zero_grad()\n",
    "        outputs = model(batch_X)\n",
    "        loss = criterion(outputs, batch_Y)\n",
    "        loss.backward()\n",
    "        optimizer.step()\n",
    "\n",
    "    model.eval()\n",
    "    with torch.no_grad():\n",
    "        val_losses = []\n",
    "        for val_X, val_Y in test_dataloader:\n",
    "            val_X, val_Y = val_X.to(device), val_Y.to(device)\n",
    "            val_output = model(val_X)\n",
    "            val_loss = criterion(val_output, val_Y)\n",
    "            val_losses.append(val_loss.item())\n",
    "        avg_val_loss = sum(val_losses) / len(val_losses)\n",
    "    print(f\"Epoch {epoch} | Train Loss: {loss.item():.4f} | Val Loss: {avg_val_loss:.4f}\")\n",
    "\n",
    "    if avg_val_loss < best_val_loss:\n",
    "        best_val_loss = avg_val_loss\n",
    "        torch.save(model.state_dict(), os.path.join(ROOT_DIR, '.models', 'alice_in_wonderland_trained.pth'))\n",
    "        best_epoch = epoch\n",
    "        print(f\"New best model at epoch {epoch} | val_loss: {avg_val_loss:.4f}\")\n",
    "\n",
    "print(f\"Using model from epoch {best_epoch} | val_loss: {best_val_loss:.4f} | entropy vocab: {log_vocab:.4f}\")"
   ],
   "id": "e213c59c66e14e48",
   "outputs": [
    {
     "name": "stdout",
     "output_type": "stream",
     "text": [
      "Log of vocab 4.605170185988092\n",
      "Epoch 0 | Train Loss: 3.9820 | Val Loss: 3.5189\n",
      "New best model at epoch 0 | val_loss: 3.5189\n",
      "Epoch 1 | Train Loss: 3.2766 | Val Loss: 3.1393\n",
      "New best model at epoch 1 | val_loss: 3.1393\n",
      "Epoch 2 | Train Loss: 2.7256 | Val Loss: 2.9497\n",
      "New best model at epoch 2 | val_loss: 2.9497\n",
      "Epoch 3 | Train Loss: 2.8989 | Val Loss: 2.8320\n",
      "New best model at epoch 3 | val_loss: 2.8320\n",
      "Epoch 4 | Train Loss: 2.8700 | Val Loss: 2.7464\n",
      "New best model at epoch 4 | val_loss: 2.7464\n",
      "Epoch 5 | Train Loss: 2.8895 | Val Loss: 2.6862\n",
      "New best model at epoch 5 | val_loss: 2.6862\n",
      "Epoch 6 | Train Loss: 1.3958 | Val Loss: 2.6364\n",
      "New best model at epoch 6 | val_loss: 2.6364\n",
      "Epoch 7 | Train Loss: 2.7366 | Val Loss: 2.5970\n",
      "New best model at epoch 7 | val_loss: 2.5970\n",
      "Epoch 8 | Train Loss: 2.2786 | Val Loss: 2.5653\n",
      "New best model at epoch 8 | val_loss: 2.5653\n",
      "Epoch 9 | Train Loss: 1.7157 | Val Loss: 2.5474\n",
      "New best model at epoch 9 | val_loss: 2.5474\n",
      "Epoch 10 | Train Loss: 2.3107 | Val Loss: 2.5228\n",
      "New best model at epoch 10 | val_loss: 2.5228\n",
      "Epoch 11 | Train Loss: 1.9091 | Val Loss: 2.5012\n",
      "New best model at epoch 11 | val_loss: 2.5012\n",
      "Epoch 12 | Train Loss: 1.9298 | Val Loss: 2.4976\n",
      "New best model at epoch 12 | val_loss: 2.4976\n",
      "Epoch 13 | Train Loss: 3.0578 | Val Loss: 2.4821\n",
      "New best model at epoch 13 | val_loss: 2.4821\n",
      "Epoch 14 | Train Loss: 1.5876 | Val Loss: 2.4774\n",
      "New best model at epoch 14 | val_loss: 2.4774\n",
      "Epoch 15 | Train Loss: 1.7471 | Val Loss: 2.4660\n",
      "New best model at epoch 15 | val_loss: 2.4660\n",
      "Epoch 16 | Train Loss: 2.6887 | Val Loss: 2.4622\n",
      "New best model at epoch 16 | val_loss: 2.4622\n",
      "Epoch 17 | Train Loss: 1.6470 | Val Loss: 2.4574\n",
      "New best model at epoch 17 | val_loss: 2.4574\n",
      "Epoch 18 | Train Loss: 2.3720 | Val Loss: 2.4607\n",
      "Epoch 19 | Train Loss: 1.8725 | Val Loss: 2.4578\n",
      "Epoch 20 | Train Loss: 3.3488 | Val Loss: 2.4571\n",
      "New best model at epoch 20 | val_loss: 2.4571\n",
      "Using model from epoch 20 | val_loss: 2.4571 | entropy vocab: 4.6052\n"
     ]
    }
   ],
   "execution_count": 104
  },
  {
   "metadata": {
    "ExecuteTime": {
     "end_time": "2025-08-28T11:34:02.568687Z",
     "start_time": "2025-08-28T11:34:02.392743Z"
    }
   },
   "cell_type": "code",
   "source": [
    "from tokenizers.decoders import Metaspace as MetaspaceDecoder\n",
    "import torch.nn.functional as F\n",
    "\n",
    "tokenizer.decoder = MetaspaceDecoder(replacement=\" \", prepend_scheme=\"never\")\n",
    "\n",
    "seq_length = dataset_train.seq_length\n",
    "def generate_text(input, num_tokens, path):\n",
    "    model.load_state_dict(torch.load(path, weights_only=True))\n",
    "    model.eval()\n",
    "\n",
    "    input = input.lower()\n",
    "\n",
    "    input_ids = tokenizer.encode(input).ids\n",
    "    leftover_prefix = []\n",
    "    if len(input_ids) > seq_length:\n",
    "        leftover_prefix = input_ids[:-seq_length]\n",
    "        input_ids = input_ids[-seq_length:]\n",
    "\n",
    "    generated = input_ids.copy()\n",
    "    for _ in range(num_tokens):\n",
    "        input_tensor = torch.tensor([generated[-seq_length:]], dtype=torch.long).to(device)\n",
    "        with torch.no_grad():\n",
    "            output = model(input_tensor)\n",
    "            probabilities = F.softmax(output / 0.3, dim=1)\n",
    "            next_id = torch.multinomial(probabilities, num_samples=1).item()\n",
    "\n",
    "        generated.append(next_id)\n",
    "    return tokenizer.decode(leftover_prefix + generated).replace(\"▁\", \" \")\n",
    "\n",
    "result_untrained = generate_text(\"let's go to the\", 100, os.path.join(ROOT_DIR, '.models', 'alice_in_wonderland_untrained.pth'))\n",
    "result_trained = generate_text(\"let's go to the\", 100, os.path.join(ROOT_DIR, '.models', 'alice_in_wonderland_trained.pth'))\n",
    "print(f\"Untrained sample: {result_untrained}\\n\")\n",
    "print(f\"Trained sample: {result_trained}\")"
   ],
   "id": "40402809658d22c4",
   "outputs": [
    {
     "name": "stdout",
     "output_type": "stream",
     "text": [
      "Untrained sample:  let's go to theer b;?on:llhaowliceve qu. wouf ha p b, smrere t tmes the[hm it fhant qu qu alicest y' oha. o w] querw)es m youceinqou andin nm n mwlind quit: w.]'s skenn hle nhatd bx itheb you queshi't h,haler\n",
      "\n",
      "Trained sample:  let's go to the room!   alice  i don't tell is the doors at least as if you don't tell me the stupose wid you playing at the queen off you don't tell the ready everybody excame.   alice \n"
     ]
    }
   ],
   "execution_count": 111
  },
  {
   "metadata": {
    "ExecuteTime": {
     "end_time": "2025-07-29T06:24:00.675534900Z",
     "start_time": "2025-07-29T06:03:52.346172Z"
    }
   },
   "cell_type": "code",
   "source": [
    "# Show tokenization for debugging\n",
    "prompt = \"when the\"\n",
    "encoded = tokenizer.encode(prompt, add_special_tokens=False)\n",
    "token_ids = encoded.ids\n",
    "tokens = [tokenizer.decode([t]) for t in token_ids]\n",
    "print(tokens)\n"
   ],
   "id": "4c3d6319f4101c3d",
   "outputs": [
    {
     "name": "stdout",
     "output_type": "stream",
     "text": [
      "['▁w', 'he', 'n', '▁the']\n"
     ]
    }
   ],
   "execution_count": 114
  }
 ],
 "metadata": {
  "kernelspec": {
   "display_name": "Python 3",
   "language": "python",
   "name": "python3"
  },
  "language_info": {
   "codemirror_mode": {
    "name": "ipython",
    "version": 2
   },
   "file_extension": ".py",
   "mimetype": "text/x-python",
   "name": "python",
   "nbconvert_exporter": "python",
   "pygments_lexer": "ipython2",
   "version": "2.7.6"
  }
 },
 "nbformat": 4,
 "nbformat_minor": 5
}
